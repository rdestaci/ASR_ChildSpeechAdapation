{
 "cells": [
  {
   "cell_type": "markdown",
   "id": "db09794f",
   "metadata": {},
   "source": [
    "# Preprocessing\n",
    "\n",
    "This notebook shows preprocessing of the dataset."
   ]
  },
  {
   "cell_type": "code",
   "execution_count": null,
   "id": "012607b5",
   "metadata": {},
   "outputs": [],
   "source": [
    "# Import packages\n",
    "import pandas as pd\n",
    "from transformers import Wav2Vec2FeatureExtractor, Wav2Vec2CTCTokenizer, Wav2Vec2Processor, Wav2Vec2ForCTC, TrainingArguments, Trainer\n",
    "from datasets import Dataset, Audio\n",
    "from dataclasses import dataclass, field\n",
    "from typing import Any, Dict, List, Optional, Union\n",
    "import torch\n",
    "# import torchaudio\n",
    "# from datetime import datetime\n",
    "# import librosa\n",
    "import re"
   ]
  },
  {
   "cell_type": "code",
   "execution_count": 2,
   "id": "50ab3148",
   "metadata": {},
   "outputs": [
    {
     "name": "stderr",
     "output_type": "stream",
     "text": [
      "Some weights of Wav2Vec2ForCTC were not initialized from the model checkpoint at facebook/wav2vec2-base-960h and are newly initialized: ['wav2vec2.masked_spec_embed']\n",
      "You should probably TRAIN this model on a down-stream task to be able to use it for predictions and inference.\n"
     ]
    }
   ],
   "source": [
    "# Load model and processor\n",
    "model_name = \"facebook/wav2vec2-base-960h\"\n",
    "model = Wav2Vec2ForCTC.from_pretrained(model_name)\n",
    "processor = Wav2Vec2Processor.from_pretrained(model_name)"
   ]
  },
  {
   "cell_type": "code",
   "execution_count": 3,
   "id": "60ecfd2a",
   "metadata": {},
   "outputs": [],
   "source": [
    "# Load training data\n",
    "train_df = pd.read_csv('training_data.csv')"
   ]
  },
  {
   "cell_type": "code",
   "execution_count": 4,
   "id": "51303a86",
   "metadata": {},
   "outputs": [],
   "source": [
    "# Initialize data collator\n",
    "@dataclass\n",
    "class DataCollatorCTCWithPadding:\n",
    "    \"\"\"\n",
    "    Data collator that will dynamically pad the inputs received.\n",
    "    Args:\n",
    "        processor (:class:`~transformers.Wav2Vec2Processor`)\n",
    "            The processor used for proccessing the data.\n",
    "        padding (:obj:`bool`, :obj:`str` or :class:`~transformers.tokenization_utils_base.PaddingStrategy`, `optional`, defaults to :obj:`True`):\n",
    "            Select a strategy to pad the returned sequences (according to the model's padding side and padding index)\n",
    "            among:\n",
    "            * :obj:`True` or :obj:`'longest'`: Pad to the longest sequence in the batch (or no padding if only a single\n",
    "              sequence if provided).\n",
    "            * :obj:`'max_length'`: Pad to a maximum length specified with the argument :obj:`max_length` or to the\n",
    "              maximum acceptable input length for the model if that argument is not provided.\n",
    "            * :obj:`False` or :obj:`'do_not_pad'` (default): No padding (i.e., can output a batch with sequences of\n",
    "              different lengths).\n",
    "        max_length (:obj:`int`, `optional`):\n",
    "            Maximum length of the ``input_values`` of the returned list and optionally padding length (see above).\n",
    "        max_length_labels (:obj:`int`, `optional`):\n",
    "            Maximum length of the ``labels`` returned list and optionally padding length (see above).\n",
    "        pad_to_multiple_of (:obj:`int`, `optional`):\n",
    "            If set will pad the sequence to a multiple of the provided value.\n",
    "            This is especially useful to enable the use of Tensor Cores on NVIDIA hardware with compute capability >=\n",
    "            7.5 (Volta).\n",
    "    \"\"\"\n",
    "\n",
    "    processor: Wav2Vec2Processor\n",
    "    padding: Union[bool, str] = True\n",
    "    max_length: Optional[int] = None\n",
    "    max_length_labels: Optional[int] = None\n",
    "    pad_to_multiple_of: Optional[int] = None\n",
    "    pad_to_multiple_of_labels: Optional[int] = None\n",
    "\n",
    "    def __call__(self, features: List[Dict[str, Union[List[int], torch.Tensor]]]) -> Dict[str, torch.Tensor]:\n",
    "        # split inputs and labels since they have to be of different lengths and need\n",
    "        # different padding methods\n",
    "        input_features = [{\"input_values\": feature[\"input_values\"]} for feature in features]\n",
    "        label_features = [{\"input_ids\": feature[\"labels\"]} for feature in features]\n",
    "\n",
    "        batch = self.processor.pad(\n",
    "            input_features,\n",
    "            padding=self.padding,\n",
    "            max_length=self.max_length,\n",
    "            pad_to_multiple_of=self.pad_to_multiple_of,\n",
    "            return_tensors=\"pt\",\n",
    "        )\n",
    "        with self.processor.as_target_processor():\n",
    "            labels_batch = self.processor.pad(\n",
    "                label_features,\n",
    "                padding=self.padding,\n",
    "                max_length=self.max_length_labels,\n",
    "                pad_to_multiple_of=self.pad_to_multiple_of_labels,\n",
    "                return_tensors=\"pt\",\n",
    "            )\n",
    "\n",
    "        # replace padding with -100 to ignore loss correctly\n",
    "        labels = labels_batch[\"input_ids\"].masked_fill(labels_batch.attention_mask.ne(1), -100)\n",
    "\n",
    "        batch[\"labels\"] = labels\n",
    "\n",
    "        return batch"
   ]
  },
  {
   "cell_type": "markdown",
   "id": "f79c26c5",
   "metadata": {},
   "source": [
    "## Preprocessing Data"
   ]
  },
  {
   "cell_type": "code",
   "execution_count": 5,
   "id": "44577425",
   "metadata": {},
   "outputs": [],
   "source": [
    "# Ensure dataset vocab is in Wav2Vec2 processor\n",
    "vocab = processor.tokenizer.get_vocab()\n",
    "allowed_chars = set(''.join(vocab.keys()))\n",
    "\n",
    "\n",
    "def clean_text(text):\n",
    "    '''\n",
    "    Clean transcriptions. Ensures that dataset transcriptions are in Wav2Vec2 tokenizer vocab.\n",
    "    '''\n",
    "    text = text.upper() #Wav2Vec2 vocab is upper case\n",
    "    text = ''.join([c if c in allowed_chars else '' for c in text])\n",
    "    text = re.sub(r\"\\s+\", \"\", text).strip()\n",
    "    return text\n",
    "\n",
    "\n",
    "\n",
    "def preprocess(example):\n",
    "    '''\n",
    "    Preprocess audio files for training.\n",
    "    '''\n",
    "    try:\n",
    "        # Load audio\n",
    "        waveform, sr = torchaudio.load(example[\"file_name\"])\n",
    "            \n",
    "        # Resample\n",
    "        if sr != 16000:\n",
    "            resampler = torchaudio.transforms.Resample(orig_freq=sr, new_freq=16000)\n",
    "            waveform = resampler(waveform)\n",
    "\n",
    "        # Flatten list of waveforms for correct dimensionality\n",
    "        waveform = waveform.squeeze(0)  # shape becomes [samples]\n",
    "\n",
    "        # Use the feature extractor to encode audio\n",
    "        inputs = processor.feature_extractor(\n",
    "            waveform,\n",
    "            sampling_rate=16000,\n",
    "            padding=True,\n",
    "            return_attention_mask=True,\n",
    "            return_tensors=\"pt\"  \n",
    "            )\n",
    "\n",
    "        # Remove the batch dimension\n",
    "        input_values = inputs[\"input_values\"].squeeze(0)\n",
    "        attention_mask = inputs[\"attention_mask\"].squeeze(0)\n",
    "\n",
    "        # Tokenize word (label_ids)\n",
    "        with processor.as_target_processor():\n",
    "            labels = processor.tokenizer(\n",
    "                example[\"clean_text\"].upper(),\n",
    "                return_tensors=\"pt\",\n",
    "                padding=True,\n",
    "                truncation=True\n",
    "                ).input_ids.squeeze(0) \n",
    "\n",
    "        # Remove files that were not processed correctly\n",
    "        if all(label == -100 for label in labels):\n",
    "            return None\n",
    "        \n",
    "        return {\n",
    "            \"input_values\": input_values,\n",
    "            \"attention_mask\": attention_mask,\n",
    "            \"labels\": labels\n",
    "            }\n",
    "\n",
    "    except Exception as e:\n",
    "        print(f\"Skipping example due to error: {e}\")\n",
    "        return None\n",
    "\n",
    "\n",
    "def is_valid(example):\n",
    "    '''\n",
    "    Additional pass to ensure files are valid for training.\n",
    "    '''\n",
    "    return any(label != -100 for label in example['labels'])"
   ]
  },
  {
   "cell_type": "code",
   "execution_count": null,
   "id": "be50c71f",
   "metadata": {},
   "outputs": [
    {
     "name": "stderr",
     "output_type": "stream",
     "text": [
      "Map:   0%|          | 0/1192 [00:00<?, ? examples/s]/home/cogsci-lasrlab/Documents/CSS_Capstone/lora_charsiu/.venv/lib/python3.12/site-packages/transformers/models/wav2vec2/processing_wav2vec2.py:174: UserWarning: `as_target_processor` is deprecated and will be removed in v5 of Transformers. You can process your labels by using the argument `text` of the regular `__call__` method (either in the same call as your audio inputs, or in a separate call.\n",
      "  warnings.warn(\n",
      "Asking to truncate to max_length but no maximum length is provided and the model has no predefined maximum length. Default to no truncation.\n",
      "Map: 100%|██████████| 1192/1192 [00:17<00:00, 67.11 examples/s]\n",
      "Filter: 100%|██████████| 1192/1192 [00:13<00:00, 87.43 examples/s]\n"
     ]
    }
   ],
   "source": [
    "# Process dataset\n",
    "train_df['clean_text'] = train_df['transcription'].apply(lambda x: clean_text(x))\n",
    "dataset = Dataset.from_pandas(train_df)\n",
    "dataset = dataset.map(preprocess)\n",
    "filtered_dataset=dataset.filter(is_valid)\n",
    "filtered_dataset.save"
   ]
  },
  {
   "cell_type": "code",
   "execution_count": 7,
   "id": "de73ba75",
   "metadata": {},
   "outputs": [
    {
     "name": "stderr",
     "output_type": "stream",
     "text": [
      "Saving the dataset (1/1 shards): 100%|██████████| 1192/1192 [00:00<00:00, 4830.00 examples/s]\n"
     ]
    }
   ],
   "source": [
    "filtered_dataset.save_to_disk(\"training_data.hf\")"
   ]
  },
  {
   "cell_type": "markdown",
   "id": "ab6a54f0",
   "metadata": {},
   "source": [
    "# Training"
   ]
  },
  {
   "cell_type": "code",
   "execution_count": null,
   "id": "a7f1320c",
   "metadata": {},
   "outputs": [],
   "source": [
    "def train_w2v2(lr, output_dir):\n",
    "    '''\n",
    "    Fine-tune on dataset.\n",
    "    '''\n",
    "    # Declare training arguments\n",
    "    training_args = TrainingArguments(\n",
    "        output_dir = output_dir,\n",
    "        per_device_train_batch_size=5, \n",
    "        per_device_eval_batch_size=5,\n",
    "        eval_strategy=\"no\",\n",
    "        num_train_epochs=1,\n",
    "        learning_rate=lr,\n",
    "        save_steps=500,\n",
    "        save_total_limit=2,\n",
    "        fp16=True,\n",
    "        eval_steps=500,\n",
    "        logging_steps=10,\n",
    "        warmup_steps=100,\n",
    "        label_names=['labels']\n",
    "    )\n",
    "\n",
    "    # Set up trainer\n",
    "    trainer = Trainer(\n",
    "        model=model,\n",
    "        args=training_args,\n",
    "        train_dataset=filtered_dataset,\n",
    "        data_collator=DataCollatorCTCWithPadding(processor=processor, padding=True),\n",
    "        tokenizer=processor.feature_extractor\n",
    "    )\n",
    "\n",
    "    # Train\n",
    "    trainer.train()\n",
    "\n",
    "    # Save model\n",
    "    model.save_pretrained(output_dir)\n",
    "    processor.save_pretrained(output_dir)"
   ]
  },
  {
   "cell_type": "code",
   "execution_count": null,
   "id": "3da2af67",
   "metadata": {},
   "outputs": [],
   "source": [
    "train_w2v2(1e-6, \"./w2v2960h_lr1e6\")"
   ]
  },
  {
   "cell_type": "markdown",
   "id": "8a06f65e",
   "metadata": {},
   "source": [
    "# Run ASR"
   ]
  },
  {
   "cell_type": "code",
   "execution_count": null,
   "id": "c20bcd34",
   "metadata": {},
   "outputs": [],
   "source": [
    "# Turn into dictionary of models\n",
    "base = \"facebook/wav2vec2-base-960h\"\n",
    "lr0 = './w2v2960h_lr0'\n",
    "lr1e4 = './w2v2960h_lr1e4'\n",
    "lr1e8 = \"./w2v2960h_lr1e8\"\n",
    "lr1e16 = \"./w2v2960h_lr1e16\"\n",
    "\n",
    "# Turn this into a function\n",
    "base_model = Wav2Vec2ForCTC.from_pretrained(base)\n",
    "base_proc = Wav2Vec2Processor.from_pretrained(base)\n",
    "\n",
    "lr0_model = Wav2Vec2ForCTC.from_pretrained(lr0)\n",
    "lr0_proc = Wav2Vec2Processor.from_pretrained(lr0)\n",
    "\n",
    "lr1e4_model = Wav2Vec2ForCTC.from_pretrained(lr1e4)\n",
    "lr1e4_proc = Wav2Vec2Processor.from_pretrained(lr1e4)\n",
    "\n",
    "lr1e8_model = Wav2Vec2ForCTC.from_pretrained(lr1e8)\n",
    "lr1e8_proc = Wav2Vec2Processor.from_pretrained(lr1e8)\n",
    "\n",
    "lr1e16_model = Wav2Vec2ForCTC.from_pretrained(lr1e16)\n",
    "lr1e16_proc = Wav2Vec2Processor.from_pretrained(lr1e16)"
   ]
  },
  {
   "cell_type": "code",
   "execution_count": null,
   "id": "7f556bc8",
   "metadata": {},
   "outputs": [],
   "source": [
    "df = pd.read_csv(\"./eval.csv\")\n",
    "df =df.head(30)\n",
    "df"
   ]
  },
  {
   "cell_type": "code",
   "execution_count": null,
   "id": "a3c1837b",
   "metadata": {},
   "outputs": [],
   "source": [
    "def load_audio(file_path):\n",
    "    '''\n",
    "    Load audio file from filepath.\n",
    "    '''\n",
    "    audio, _ = librosa.load(file_path, sr=16000)\n",
    "    return audio\n",
    "\n",
    "\n",
    "def transcribe_audio(model, proc, file_name):\n",
    "    '''\n",
    "    Transcribes audio using defined model.\n",
    "    '''\n",
    "    audio = load_audio(file_name)\n",
    "    \n",
    "    input_vals = proc(\n",
    "        audio, \n",
    "        return_tensors = 'pt',\n",
    "        sampling_rate = 16000\n",
    "    ).input_values \n",
    "\n",
    "    with torch.no_grad():\n",
    "        logits = model(input_vals).logits \n",
    "        \n",
    "    predicted_ids = torch.argmax(logits, dim = -1)\n",
    "    predicted_word = proc.decode(predicted_ids[0])\n",
    "    \n",
    "    return predicted_word.lower()\n"
   ]
  },
  {
   "cell_type": "code",
   "execution_count": null,
   "id": "c37c89de",
   "metadata": {},
   "outputs": [],
   "source": [
    "# Run base\n",
    "df[\"base_pred\"] = df[\"file_name\"].apply(lambda x: transcribe_audio(base_model, base_proc, x))\n",
    "df[\"lr0_pred\"] = df[\"file_name\"].apply(lambda x: transcribe_audio(lr0_model, lr0_proc, x))\n",
    "df[\"lr1e16_pred\"] = df[\"file_name\"].apply(lambda x: transcribe_audio(lr1e16_model, lr1e16_proc, x))\n",
    "df[\"lr1e8_pred\"] = df[\"file_name\"].apply(lambda x: transcribe_audio(lr1e8_model, lr1e8_proc, x))\n",
    "df[\"lr1e4_pred\"] = df[\"file_name\"].apply(lambda x: transcribe_audio(lr1e4_model, lr1e4_proc, x))\n"
   ]
  },
  {
   "cell_type": "code",
   "execution_count": null,
   "id": "7ce8c682",
   "metadata": {},
   "outputs": [],
   "source": [
    "df"
   ]
  }
 ],
 "metadata": {
  "kernelspec": {
   "display_name": ".venv",
   "language": "python",
   "name": "python3"
  },
  "language_info": {
   "codemirror_mode": {
    "name": "ipython",
    "version": 3
   },
   "file_extension": ".py",
   "mimetype": "text/x-python",
   "name": "python",
   "nbconvert_exporter": "python",
   "pygments_lexer": "ipython3",
   "version": "3.12.10"
  }
 },
 "nbformat": 4,
 "nbformat_minor": 5
}
